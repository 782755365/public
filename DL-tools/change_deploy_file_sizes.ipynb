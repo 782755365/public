{
 "cells": [
  {
   "cell_type": "code",
   "execution_count": 1,
   "metadata": {
    "collapsed": true
   },
   "outputs": [],
   "source": [
    "import os\n",
    "from google.protobuf import text_format\n",
    "\n",
    "caffe_root = '/opt/caffe-nv/'\n",
    "import sys\n",
    "\n",
    "sys.path.insert(0, caffe_root + 'python')\n",
    "\n",
    "import caffe"
   ]
  },
  {
   "cell_type": "code",
   "execution_count": 2,
   "metadata": {
    "collapsed": false,
    "scrolled": true
   },
   "outputs": [
    {
     "data": {
      "text/plain": [
       "'input: \"data\"\\ninput_shape {\\n  dim: 1\\n  dim: 3\\n  dim: 21\\n  dim: 532\\n}\\nlayer {\\n  name: \"conv1a\"\\n  type: \"Convolution\"\\n  bottom: \"data\"\\n  top: \"conv1a\"\\n  param {\\n    lr_mult: 1.0\\n    decay_mult: 1.0\\n  }\\n  param {\\n    lr_mult: 2.0\\n    decay_mult: 0.0\\n  }\\n  convolution_param {\\n    num_output: 32\\n    kernel_size: 3\\n    stride: 1\\n    weight_filler {\\n      type: \"gaussian\"\\n      std: 0.01\\n    }\\n    bias_filler {\\n      type: \"constant\"\\n      value: 0.0\\n    }\\n  }\\n}\\nlayer {\\n  name: \"bn1a\"\\n  type: \"BatchNorm\"\\n  bottom: \"conv1a\"\\n  top: \"bn1a\"\\n  batch_norm_param {\\n    moving_average_fraction: 0.95\\n    scale_filler {\\n      type: \"constant\"\\n      value: 1.0\\n    }\\n    bias_filler {\\n      type: \"constant\"\\n      value: 0.001\\n    }\\n    engine: CUDNN\\n  }\\n}\\nlayer {\\n  name: \"relu1a\"\\n  type: \"ReLU\"\\n  bottom: \"bn1a\"\\n  top: \"relu1a\"\\n}\\nlayer {\\n  name: \"drop1a\"\\n  type: \"Dropout\"\\n  bottom: \"relu1a\"\\n  top: \"relu1a\"\\n  dropout_param {\\n    dropout_ratio: 0.5\\n  }\\n}\\nlayer {\\n  name: \"conv1b\"\\n  type: \"Convolution\"\\n  bottom: \"relu1a\"\\n  top: \"conv1b\"\\n  param {\\n    lr_mult: 1.0\\n    decay_mult: 1.0\\n  }\\n  param {\\n    lr_mult: 2.0\\n    decay_mult: 0.0\\n  }\\n  convolution_param {\\n    num_output: 32\\n    kernel_size: 3\\n    stride: 2\\n    weight_filler {\\n      type: \"gaussian\"\\n      std: 0.01\\n    }\\n    bias_filler {\\n      type: \"constant\"\\n      value: 0.0\\n    }\\n  }\\n}\\nlayer {\\n  name: \"bn1b\"\\n  type: \"BatchNorm\"\\n  bottom: \"conv1b\"\\n  top: \"bn1b\"\\n  batch_norm_param {\\n    moving_average_fraction: 0.95\\n    scale_filler {\\n      type: \"constant\"\\n      value: 1.0\\n    }\\n    bias_filler {\\n      type: \"constant\"\\n      value: 0.001\\n    }\\n    engine: CUDNN\\n  }\\n}\\nlayer {\\n  name: \"relu1b\"\\n  type: \"ReLU\"\\n  bottom: \"bn1b\"\\n  top: \"relu1b\"\\n}\\nlayer {\\n  name: \"drop1b\"\\n  type: \"Dropout\"\\n  bottom: \"relu1b\"\\n  top: \"relu1b\"\\n  dropout_param {\\n    dropout_ratio: 0.5\\n  }\\n}\\nlayer {\\n  name: \"conv2a\"\\n  type: \"Convolution\"\\n  bottom: \"relu1b\"\\n  top: \"conv2a\"\\n  param {\\n    lr_mult: 1.0\\n    decay_mult: 1.0\\n  }\\n  param {\\n    lr_mult: 2.0\\n    decay_mult: 0.0\\n  }\\n  convolution_param {\\n    num_output: 32\\n    kernel_size: 3\\n    stride: 1\\n    weight_filler {\\n      type: \"gaussian\"\\n      std: 0.01\\n    }\\n    bias_filler {\\n      type: \"constant\"\\n      value: 0.0\\n    }\\n  }\\n}\\nlayer {\\n  name: \"bn2a\"\\n  type: \"BatchNorm\"\\n  bottom: \"conv2a\"\\n  top: \"bn2a\"\\n  batch_norm_param {\\n    moving_average_fraction: 0.95\\n    scale_filler {\\n      type: \"constant\"\\n      value: 1.0\\n    }\\n    bias_filler {\\n      type: \"constant\"\\n      value: 0.001\\n    }\\n    engine: CUDNN\\n  }\\n}\\nlayer {\\n  name: \"relu2a\"\\n  type: \"ReLU\"\\n  bottom: \"bn2a\"\\n  top: \"relu2a\"\\n}\\nlayer {\\n  name: \"drop2a\"\\n  type: \"Dropout\"\\n  bottom: \"relu2a\"\\n  top: \"relu2a\"\\n  dropout_param {\\n    dropout_ratio: 0.5\\n  }\\n}\\nlayer {\\n  name: \"conv2b\"\\n  type: \"Convolution\"\\n  bottom: \"relu2a\"\\n  top: \"conv2b\"\\n  param {\\n    lr_mult: 1.0\\n    decay_mult: 1.0\\n  }\\n  param {\\n    lr_mult: 2.0\\n    decay_mult: 0.0\\n  }\\n  convolution_param {\\n    num_output: 32\\n    kernel_size: 3\\n    stride: 2\\n    weight_filler {\\n      type: \"gaussian\"\\n      std: 0.01\\n    }\\n    bias_filler {\\n      type: \"constant\"\\n      value: 0.0\\n    }\\n  }\\n}\\nlayer {\\n  name: \"bn2b\"\\n  type: \"BatchNorm\"\\n  bottom: \"conv2b\"\\n  top: \"bn2b\"\\n  batch_norm_param {\\n    moving_average_fraction: 0.95\\n    scale_filler {\\n      type: \"constant\"\\n      value: 1.0\\n    }\\n    bias_filler {\\n      type: \"constant\"\\n      value: 0.001\\n    }\\n    engine: CUDNN\\n  }\\n}\\nlayer {\\n  name: \"relu2b\"\\n  type: \"ReLU\"\\n  bottom: \"bn2b\"\\n  top: \"relu2b\"\\n}\\nlayer {\\n  name: \"drop2b\"\\n  type: \"Dropout\"\\n  bottom: \"relu2b\"\\n  top: \"relu2b\"\\n  dropout_param {\\n    dropout_ratio: 0.5\\n  }\\n}\\nlayer {\\n  name: \"conv3a\"\\n  type: \"Convolution\"\\n  bottom: \"relu2b\"\\n  top: \"conv3a\"\\n  param {\\n    lr_mult: 1.0\\n    decay_mult: 1.0\\n  }\\n  param {\\n    lr_mult: 2.0\\n    decay_mult: 0.0\\n  }\\n  convolution_param {\\n    num_output: 32\\n    kernel_size: 3\\n    stride: 1\\n    weight_filler {\\n      type: \"gaussian\"\\n      std: 0.01\\n    }\\n    bias_filler {\\n      type: \"constant\"\\n      value: 0.0\\n    }\\n  }\\n}\\nlayer {\\n  name: \"bn3a\"\\n  type: \"BatchNorm\"\\n  bottom: \"conv3a\"\\n  top: \"bn3a\"\\n  batch_norm_param {\\n    moving_average_fraction: 0.95\\n    scale_filler {\\n      type: \"constant\"\\n      value: 1.0\\n    }\\n    bias_filler {\\n      type: \"constant\"\\n      value: 0.001\\n    }\\n    engine: CUDNN\\n  }\\n}\\nlayer {\\n  name: \"relu3a\"\\n  type: \"ReLU\"\\n  bottom: \"bn3a\"\\n  top: \"relu3a\"\\n}\\nlayer {\\n  name: \"drop3a\"\\n  type: \"Dropout\"\\n  bottom: \"relu3a\"\\n  top: \"relu3a\"\\n  dropout_param {\\n    dropout_ratio: 0.5\\n  }\\n}\\nlayer {\\n  name: \"conv3b\"\\n  type: \"Convolution\"\\n  bottom: \"relu3a\"\\n  top: \"conv3b\"\\n  param {\\n    lr_mult: 1.0\\n    decay_mult: 1.0\\n  }\\n  param {\\n    lr_mult: 2.0\\n    decay_mult: 0.0\\n  }\\n  convolution_param {\\n    num_output: 32\\n    kernel_size: 4\\n    stride: 2\\n    weight_filler {\\n      type: \"gaussian\"\\n      std: 0.01\\n    }\\n    bias_filler {\\n      type: \"constant\"\\n      value: 0.0\\n    }\\n  }\\n}\\nlayer {\\n  name: \"bn3b\"\\n  type: \"BatchNorm\"\\n  bottom: \"conv3b\"\\n  top: \"bn3b\"\\n  batch_norm_param {\\n    moving_average_fraction: 0.95\\n    scale_filler {\\n      type: \"constant\"\\n      value: 1.0\\n    }\\n    bias_filler {\\n      type: \"constant\"\\n      value: 0.001\\n    }\\n    engine: CUDNN\\n  }\\n}\\nlayer {\\n  name: \"relu3b\"\\n  type: \"ReLU\"\\n  bottom: \"bn3b\"\\n  top: \"relu3b\"\\n}\\nlayer {\\n  name: \"drop3b\"\\n  type: \"Dropout\"\\n  bottom: \"relu3b\"\\n  top: \"relu3b\"\\n  dropout_param {\\n    dropout_ratio: 0.5\\n  }\\n}\\nlayer {\\n  name: \"fc8-conv\"\\n  type: \"Convolution\"\\n  bottom: \"relu3b\"\\n  top: \"fc8-conv\"\\n  param {\\n    lr_mult: 1.0\\n    decay_mult: 1.0\\n  }\\n  param {\\n    lr_mult: 2.0\\n    decay_mult: 0.0\\n  }\\n  convolution_param {\\n    num_output: 2\\n    kernel_size: 5\\n    weight_filler {\\n      type: \"gaussian\"\\n      std: 0.01\\n    }\\n    bias_filler {\\n      type: \"constant\"\\n      value: 0.0\\n    }\\n  }\\n}\\nlayer {\\n  name: \"softmax\"\\n  type: \"Softmax\"\\n  bottom: \"fc8-conv\"\\n  top: \"softmax\"\\n}\\n'"
      ]
     },
     "execution_count": 2,
     "metadata": {},
     "output_type": "execute_result"
    }
   ],
   "source": [
    "net =  caffe.io.caffe_pb2.NetParameter()\n",
    "text_format.Merge(open(\"deploy_mod_564.prototxt\").read(), net)\n",
    "#change dimension as necessary\n",
    "net.input_shape._values[0].dim[2]=21\n",
    "#convert to string..write to file..whatever\n",
    "text_format.MessageToString(net)"
   ]
  },
  {
   "cell_type": "code",
   "execution_count": null,
   "metadata": {
    "collapsed": true
   },
   "outputs": [],
   "source": []
  }
 ],
 "metadata": {
  "kernelspec": {
   "display_name": "Python 2",
   "language": "python",
   "name": "python2"
  },
  "language_info": {
   "codemirror_mode": {
    "name": "ipython",
    "version": 2
   },
   "file_extension": ".py",
   "mimetype": "text/x-python",
   "name": "python",
   "nbconvert_exporter": "python",
   "pygments_lexer": "ipython2",
   "version": "2.7.9"
  }
 },
 "nbformat": 4,
 "nbformat_minor": 0
}
