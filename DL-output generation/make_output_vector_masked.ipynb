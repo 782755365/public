{
 "cells": [
  {
   "cell_type": "code",
   "execution_count": null,
   "metadata": {
    "collapsed": true
   },
   "outputs": [],
   "source": [
    "#!/usr/bin/python\n",
    "import glob\n",
    "import time\n",
    "import sys\n",
    "import numpy as np\n",
    "import scipy.misc\n",
    "import argparse\n",
    "import os\n",
    "import warnings"
   ]
  },
  {
   "cell_type": "code",
   "execution_count": null,
   "metadata": {
    "collapsed": true
   },
   "outputs": [],
   "source": [
    "# Make sure that caffe is on the python path:\n",
    "caffe_root = '/home/axj232/code/caffe-nv/'\n",
    "sys.path.insert(0, caffe_root + 'python')\n",
    "\n",
    "import caffe\n"
   ]
  },
  {
   "cell_type": "code",
   "execution_count": null,
   "metadata": {
    "collapsed": true
   },
   "outputs": [],
   "source": [
    "import matplotlib.pyplot as plt\n",
    "%matplotlib inline\n",
    "\n",
    "# configure plotting\n",
    "plt.rcParams['figure.figsize'] = (20, 20)\n",
    "plt.rcParams['image.interpolation'] = 'nearest'\n",
    "plt.rcParams['image.cmap'] = 'gray'"
   ]
  },
  {
   "cell_type": "code",
   "execution_count": null,
   "metadata": {
    "collapsed": true
   },
   "outputs": [],
   "source": [
    "#setup some input paramters and provide defaults\n",
    "parser = argparse.ArgumentParser(description='make output of files')\n",
    "parser.add_argument('pattern',\n",
    "                    help=\"Pattern to upload, for example, *.tif, or the name of a text file containing filenames to upload (use -i option)\")\n",
    "\n",
    "parser.add_argument('-p', '--patchsize', help=\"patchsize, default 32\", default=32, type=int)\n",
    "parser.add_argument('-o', '--outdir', help=\"outputdir, default ./output/\", default=\"./output/\", type=str)\n",
    "parser.add_argument('-b', '--binary', help=\"binary mean file\", default=\"DB_train.binaryproto\", type=str)\n",
    "parser.add_argument('-m', '--model', help=\"model\", default=\"full_convolutional_net.caffemodel\", type=str)\n",
    "parser.add_argument('-y', '--deploy', help=\"ORIGINAL deploy file\", default=\"deploy_full.prototxt\", type=str)\n",
    "parser.add_argument('-i', '--gpuid', help=\"id of gpu to use\", default=0, type=int)\n",
    "parser.add_argument('-v', '--batch', help=\"batch size\", default=8192, type=int)\n",
    "parser.add_argument('-c', '--cmask', help=\"use compuation mask\", default=False, action=\"store_true\")\n",
    "\n",
    "#args = parser.parse_args()\n",
    "args = parser.parse_args([\"-v32768\",\"-c\",\"-p32\",\"-bDB_train_1.binaryproto\",\"-msnapshot_iter_71730.caffemodel\",\"-ydeploy.prototxt\",\"-o./out/\",\"small.png\"])\n",
    "\n",
    "hwsize=args.patchsize/2\n",
    "if not os.path.exists(args.outdir):\n",
    "    os.makedirs(args.outdir)"
   ]
  },
  {
   "cell_type": "code",
   "execution_count": null,
   "metadata": {
    "collapsed": true
   },
   "outputs": [],
   "source": [
    "#load the binary file and conver it to the proper format\n",
    "a = caffe.io.caffe_pb2.BlobProto()\n",
    "file = open(args.binary, 'rb')\n",
    "data = file.read()\n",
    "a.ParseFromString(data)\n",
    "means = a.data\n",
    "means = np.asarray(means)\n",
    "means = means.reshape(3, 32, 32)\n",
    "\n",
    "#specify that we want to use the gpu\n",
    "caffe.set_mode_gpu()\n",
    "caffe.set_device(2)\n",
    "\n",
    "\n",
    "#create the classifier\n",
    "net = caffe.Classifier(args.deploy, args.model,\n",
    "                       mean=means,\n",
    "                       channel_swap=(2, 1, 0),\n",
    "                       raw_scale=255,\n",
    "                       image_dims=(args.patchsize, args.patchsize))\n",
    "\n",
    "\n"
   ]
  },
  {
   "cell_type": "code",
   "execution_count": null,
   "metadata": {},
   "outputs": [],
   "source": [
    "files = sorted(glob.glob(args.pattern))\n",
    "fname=files[0]\n",
    "warnings.warn(\"only computing first file, for loop not implemented\")"
   ]
  },
  {
   "cell_type": "code",
   "execution_count": null,
   "metadata": {},
   "outputs": [],
   "source": [
    "newfname_prob = \"%s/%s_prob.png\" % (args.outdir,os.path.basename(fname)[:-4])\n",
    "#see if it already exists, if it does skip it...this allows us to run multiple instanes at once\n",
    "#if (os.path.exists(newfname_prob)):\n",
    "#    continue\n",
    "#print \"working on file: \\t %s\" % fname\n",
    "\n",
    "#save a flag file, so we can know that there is a process working on this particular file \n",
    "\n",
    "outputimage = np.zeros(shape=(10, 10))\n",
    "\n",
    "scipy.misc.imsave(newfname_prob, outputimage)\n",
    "\n",
    "image = caffe.io.load_image(fname)\n",
    "\n",
    "print image.shape\n",
    "if (args.cmask):\n",
    "    mask = caffe.io.load_image(\"%s_mask.png\"%fname[0:-4], color=False)\n",
    "else:\n",
    "    mask = np.ones(shape=(image.shape[0], image.shape[1], 1))\n",
    "\n",
    "image = np.lib.pad(image, ((hwsize, hwsize), (hwsize, hwsize), (0, 0)), 'symmetric')\n",
    "mask = np.lib.pad(mask, ((hwsize, hwsize), (hwsize, hwsize), (0, 0)), 'constant',\n",
    "                  constant_values=((0, 0), (0, 0), (0, 0)))\n",
    "\n",
    "outputimage_probs = np.zeros(shape=(image.shape[0],image.shape[1],3))\n",
    "\n",
    "non_zeros = mask.nonzero()\n",
    "num_non_zero = np.count_nonzero(mask)\n",
    "print \"this many nonzeros to compute [x] in [y] :\\t%d\\t%d\\n\" % (num_non_zero, mask.shape[0] * mask.shape[1])\n",
    "rcs = []\n",
    "patches = []\n",
    "listi = 0\n",
    "start_time = time.time()\n",
    "start_time_iter = 0\n",
    "print outputimage_probs.shape\n",
    "while listi < num_non_zero:\n",
    "    print outputimage_probs.shape\n",
    "    print \"(G) %s\\t (%.3f,%.3f)\\t %d of %d\" % (\n",
    "        fname, time.time() - start_time, time.time() - start_time_iter, listi, num_non_zero)\n",
    "    start_time_iter = time.time()\n",
    "    while len(patches) < args.batch:\n",
    "        if (listi >= num_non_zero):\n",
    "            break\n",
    "\n",
    "        rowi = non_zeros[0][listi]\n",
    "        coli = non_zeros[1][listi]\n",
    "        patches.append(image[rowi - hwsize:rowi + hwsize, coli - hwsize:coli + hwsize, :])\n",
    "        rcs.append([rowi, coli])\n",
    "        listi += 1\n",
    "    print \"(R) %s\\t (%.3f,%.3f)\\t %d of %d\" % (\n",
    "        fname, time.time() - start_time, time.time() - start_time_iter, listi, num_non_zero)\n",
    "    prediction = net.predict(patches,oversample=False)\n",
    "    print \"(D) %s\\t (%.3f,%.3f)\\t %d of %d\" % (\n",
    "        fname, time.time() - start_time, time.time() - start_time_iter, listi, num_non_zero)\n",
    "    rcs = np.array(rcs)\n",
    "    outputimage_probs[rcs[:, 0], rcs[:, 1], 0:2] = np.squeeze(prediction)\n",
    "    patches = []\n",
    "    rcs = []\n",
    "\n",
    "\n",
    "\n",
    "outputimage_probs = outputimage_probs[hwsize:-hwsize, hwsize:-hwsize, :]\n",
    "\n",
    "scipy.misc.imsave(newfname_prob, outputimage_probs)\n",
    "\n",
    "\n",
    "#(D) small.png\t (410.838,410.837)\t 11663 of 11663 #yes overfeat\n",
    "#(D) small.png\t (56.741,56.740)\t 11663 of 11663 #no overfeat"
   ]
  }
 ],
 "metadata": {
  "kernelspec": {
   "display_name": "Python 2",
   "language": "python",
   "name": "python2"
  },
  "language_info": {
   "codemirror_mode": {
    "name": "ipython",
    "version": 2
   },
   "file_extension": ".py",
   "mimetype": "text/x-python",
   "name": "python",
   "nbconvert_exporter": "python",
   "pygments_lexer": "ipython2",
   "version": "2.7.9"
  }
 },
 "nbformat": 4,
 "nbformat_minor": 2
}
