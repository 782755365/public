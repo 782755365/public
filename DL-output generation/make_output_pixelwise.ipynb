{
 "cells": [
  {
   "cell_type": "code",
   "execution_count": null,
   "metadata": {
    "collapsed": true
   },
   "outputs": [],
   "source": [
    "#!/usr/bin/python\n",
    "import glob\n",
    "import time\n",
    "import sys\n",
    "import numpy as np\n",
    "import scipy.misc\n",
    "import argparse\n",
    "import os\n",
    "import warnings\n"
   ]
  },
  {
   "cell_type": "code",
   "execution_count": null,
   "metadata": {
    "collapsed": true
   },
   "outputs": [],
   "source": [
    "# Make sure that caffe is on the python path:\n",
    "caffe_root = '/home/axj232/code/caffe-nv/'\n",
    "sys.path.insert(0, caffe_root + 'python')\n",
    "\n",
    "import caffe\n"
   ]
  },
  {
   "cell_type": "code",
   "execution_count": null,
   "metadata": {
    "collapsed": true
   },
   "outputs": [],
   "source": [
    "import matplotlib.pyplot as plt\n",
    "%matplotlib inline\n",
    "\n",
    "# configure plotting\n",
    "plt.rcParams['figure.figsize'] = (20, 20)\n",
    "plt.rcParams['image.interpolation'] = 'nearest'\n",
    "plt.rcParams['image.cmap'] = 'gray'"
   ]
  },
  {
   "cell_type": "code",
   "execution_count": null,
   "metadata": {
    "collapsed": true
   },
   "outputs": [],
   "source": [
    "#setup some input paramters and provide defaults\n",
    "parser = argparse.ArgumentParser(description='make output of files')\n",
    "parser.add_argument('pattern',\n",
    "                    help=\"Pattern to upload, for example, *.tif, or the name of a text file containing filenames to upload (use -i option)\")\n",
    "\n",
    "parser.add_argument('-p', '--patchsize', help=\"patchsize, default 32\", default=32, type=int)\n",
    "parser.add_argument('-o', '--outdir', help=\"outputdir, default ./output/\", default=\"./output/\", type=str)\n",
    "parser.add_argument('-b', '--binary', help=\"binary mean file\", default=\"DB_train.binaryproto\", type=str)\n",
    "parser.add_argument('-m', '--model', help=\"model\", default=\"full_convolutional_net.caffemodel\", type=str)\n",
    "parser.add_argument('-y', '--deploy', help=\"ORIGINAL deploy file\", default=\"deploy_full.prototxt\", type=str)\n",
    "parser.add_argument('-i', '--gpuid', help=\"id of gpu to use\", default=0, type=int)\n",
    "parser.add_argument('-s', '--stride', help=\"stride to perform in displace\", default=1, type=int)\n",
    "parser.add_argument('-l', '--layer', help=\"layer name from which to extract results\", default=\"softmax\", type=str)\n",
    "parser.add_argument('-v', '--batch', help=\"batch size\", default=8192, type=int)\n",
    "\n",
    "\n",
    "#args = parser.parse_args()\n",
    "args = parser.parse_args([\"-p32\",\"-s2\",\"-i2\",\"-bDB_train_1.binaryproto\",\"-msnapshot_iter_71730.caffemodel\",\"-ydeploy.prototxt\",\"-o./out/\",\"small.png\"])\n",
    "\n",
    "hwsize=args.patchsize/2"
   ]
  },
  {
   "cell_type": "code",
   "execution_count": null,
   "metadata": {
    "collapsed": true
   },
   "outputs": [],
   "source": [
    "#load the binary file and conver it to the proper format\n",
    "a = caffe.io.caffe_pb2.BlobProto()\n",
    "file = open(args.binary, 'rb')\n",
    "data = file.read()\n",
    "a.ParseFromString(data)\n",
    "means = a.data\n",
    "means = np.asarray(means)\n",
    "means = means.reshape(3, 32, 32)\n",
    "\n",
    "#specify that we want to use the gpu\n",
    "caffe.set_mode_gpu()\n",
    "\n",
    "#create the classifier\n",
    "net = caffe.Classifier(args.deploy, args.model,\n",
    "                       mean=means,\n",
    "                       channel_swap=(2, 1, 0),\n",
    "                       raw_scale=255,\n",
    "                       image_dims=(args.patchsize, args.patchsize))\n",
    "\n",
    "\n"
   ]
  },
  {
   "cell_type": "code",
   "execution_count": null,
   "metadata": {},
   "outputs": [],
   "source": [
    "files = sorted(glob.glob(args.pattern))\n",
    "fname=files[0]\n",
    "warnings.warn(\"only computing first file, for loop not implemented\")"
   ]
  },
  {
   "cell_type": "code",
   "execution_count": null,
   "metadata": {},
   "outputs": [],
   "source": [
    "\n",
    "newfname_prob = \"%s_prob.png\" % (fname[0:-4])\n",
    "#see if it already exists, if it does skip it...this allows us to run multiple instanes at once\n",
    "#    if (os.path.exists(newfname_prob)):\n",
    "#        continue\n",
    "#    print \"working on file: \\t %s\" % fname\n",
    "\n",
    "#save a flag file, so we can know that there is a process working on this particular file \n",
    "outputimage = np.zeros(shape=(10, 10))\n",
    "scipy.misc.imsave(newfname_prob, outputimage)\n",
    "\n",
    "image = caffe.io.load_image(fname) #load the image\n",
    "\n",
    "outputimage_probs = np.zeros(shape=(image.shape[0], image.shape[1],3))\n",
    "\n",
    "image = np.lib.pad(image, ((hwsize, hwsize), (hwsize, hwsize), (0, 0)), 'symmetric') #add some padding so we can compute the edges\n",
    "\n",
    "outputimage_probs = np.zeros(shape=(image.shape[0],image.shape[1],3))\n",
    "\n",
    "start_time = time.time()\n",
    "start_time_iter=0\n",
    "\n",
    "for rowi in xrange(hwsize+1,image.shape[0]-hwsize,args.stride):\n",
    "    print \"%s\\t (%.3f,%.3f)\\t %d of %d\" % (fname,time.time()-start_time,time.time()-start_time_iter,rowi,image.shape[0]-hwsize)\n",
    "    start_time_iter = time.time()\n",
    "    patches=[]\n",
    "    for coli in xrange(hwsize+1,image.shape[1]-hwsize,args.stride):\n",
    "        patches.append(image[rowi-hwsize:rowi+hwsize, coli-hwsize:coli+hwsize,:])\n",
    "\n",
    "    prediction = net.predict(patches)\n",
    "    outputimage_probs[rowi,hwsize+1:image.shape[1]-hwsize:args.stride,0:2]=prediction\n",
    "\n",
    "outputimage_probs = outputimage_probs[hwsize:-hwsize, hwsize:-hwsize, :] #chop away the padding\n",
    "scipy.misc.imsave(newfname_prob,outputimage_probs)\n"
   ]
  }
 ],
 "metadata": {
  "kernelspec": {
   "display_name": "Python 2",
   "language": "python",
   "name": "python2"
  },
  "language_info": {
   "codemirror_mode": {
    "name": "ipython",
    "version": 2
   },
   "file_extension": ".py",
   "mimetype": "text/x-python",
   "name": "python",
   "nbconvert_exporter": "python",
   "pygments_lexer": "ipython2",
   "version": "2.7.9"
  }
 },
 "nbformat": 4,
 "nbformat_minor": 2
}
